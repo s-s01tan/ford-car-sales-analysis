{
  "nbformat": 4,
  "nbformat_minor": 0,
  "metadata": {
    "colab": {
      "provenance": []
    },
    "kernelspec": {
      "name": "python3",
      "display_name": "Python 3"
    },
    "language_info": {
      "name": "python"
    }
  },
  "cells": [
    {
      "cell_type": "markdown",
      "source": [
        "The analysis focused on identifying the best-performing regression model for predicting automobile prices based on various features."
      ],
      "metadata": {
        "id": "KdlWiCKIZM9L"
      }
    },
    {
      "cell_type": "markdown",
      "source": [
        "<hr/>\n",
        "Importing Libraries"
      ],
      "metadata": {
        "id": "RsElYPfsyDJg"
      }
    },
    {
      "cell_type": "code",
      "source": [
        "import pandas as pd\n",
        "import pandas as pd\n",
        "import matplotlib.pyplot as plt\n",
        "import seaborn as sns\n",
        "from sklearn.model_selection import train_test_split\n",
        "from sklearn.linear_model import LinearRegression, Ridge\n",
        "from sklearn.preprocessing import PolynomialFeatures\n",
        "from sklearn.metrics import mean_squared_error, r2_score\n",
        "from sklearn.model_selection import GridSearchCV\n",
        "import warnings\n",
        "warnings.filterwarnings(\"ignore\")"
      ],
      "metadata": {
        "id": "URFTz2kwhg_f"
      },
      "execution_count": 75,
      "outputs": []
    },
    {
      "cell_type": "markdown",
      "source": [
        "<hr/>\n",
        "Reading dataset"
      ],
      "metadata": {
        "id": "mLr9h5lGyJ8l"
      }
    },
    {
      "cell_type": "code",
      "source": [
        "dataframe = pd.read_csv(\"./ford.csv\")\n",
        "print('Initial dataframe:')\n",
        "print(dataframe)"
      ],
      "metadata": {
        "colab": {
          "base_uri": "https://localhost:8080/"
        },
        "id": "mf_sArakyJF-",
        "outputId": "47defa34-5ea5-4f8b-c9da-55b674f6510d"
      },
      "execution_count": 16,
      "outputs": [
        {
          "output_type": "stream",
          "name": "stdout",
          "text": [
            "Initial dataframe:\n",
            "         model  year  price transmission  mileage fuelType  tax   mpg  \\\n",
            "0       Fiesta  2017  12000    Automatic    15944   Petrol  150  57.7   \n",
            "1        Focus  2018  14000       Manual     9083   Petrol  150  57.7   \n",
            "2        Focus  2017  13000       Manual    12456   Petrol  150  57.7   \n",
            "3       Fiesta  2019  17500       Manual    10460   Petrol  145  40.3   \n",
            "4       Fiesta  2019  16500    Automatic     1482   Petrol  145  48.7   \n",
            "...        ...   ...    ...          ...      ...      ...  ...   ...   \n",
            "17961    B-MAX  2017   8999       Manual    16700   Petrol  150  47.1   \n",
            "17962    B-MAX  2014   7499       Manual    40700   Petrol   30  57.7   \n",
            "17963    Focus  2015   9999       Manual     7010   Diesel   20  67.3   \n",
            "17964       KA  2018   8299       Manual     5007   Petrol  145  57.7   \n",
            "17965    Focus  2015   8299       Manual     5007   Petrol   22  57.7   \n",
            "\n",
            "       engineSize  \n",
            "0             1.0  \n",
            "1             1.0  \n",
            "2             1.0  \n",
            "3             1.5  \n",
            "4             1.0  \n",
            "...           ...  \n",
            "17961         1.4  \n",
            "17962         1.0  \n",
            "17963         1.6  \n",
            "17964         1.2  \n",
            "17965         1.0  \n",
            "\n",
            "[17966 rows x 9 columns]\n"
          ]
        }
      ]
    },
    {
      "cell_type": "markdown",
      "source": [
        "<hr/>\n",
        "Implementing one-hot encoding technique"
      ],
      "metadata": {
        "id": "YQNTgDJl7VeZ"
      }
    },
    {
      "cell_type": "code",
      "source": [
        "dataframe = pd.get_dummies(dataframe, columns=['model','transmission','fuelType'])"
      ],
      "metadata": {
        "id": "2CELSkG17Y4o"
      },
      "execution_count": 43,
      "outputs": []
    },
    {
      "cell_type": "markdown",
      "source": [
        "<hr/>\n",
        "Data cleaning process"
      ],
      "metadata": {
        "id": "QFXBp6UmyU9x"
      }
    },
    {
      "cell_type": "code",
      "source": [
        "# Duplicated entries\n",
        "duplicated_entries = dataframe[dataframe.duplicated(keep=False)]\n",
        "\n",
        "# Missing values\n",
        "missing_values = dataframe.isnull().sum()\n",
        "\n",
        "print('The number of duplicated entries: ', len(duplicated_entries))\n",
        "print('Duplicated entries: ', duplicated_entries)\n",
        "print('Missing values: ', missing_values)"
      ],
      "metadata": {
        "colab": {
          "base_uri": "https://localhost:8080/"
        },
        "id": "SCNjjKyeyZCS",
        "outputId": "35f2546a-60d2-4a25-ad0f-00849255ee8d"
      },
      "execution_count": 44,
      "outputs": [
        {
          "output_type": "stream",
          "name": "stdout",
          "text": [
            "The number of duplicated entries:  302\n",
            "Duplicated entries:         year  price  mileage  tax   mpg  engineSize  model_ B-MAX  \\\n",
            "25     2017  18499    13063  145  41.5         2.0         False   \n",
            "27     2015   8299    25935    0  65.7         1.0         False   \n",
            "28     2018  12499     8700  145  58.9         1.0         False   \n",
            "113    2016  10995    30923    0  74.3         1.5         False   \n",
            "159    2016  10995    30923    0  74.3         1.5         False   \n",
            "...     ...    ...      ...  ...   ...         ...           ...   \n",
            "15127  2019  16799      433  150  45.6         1.0         False   \n",
            "15684  2008   1795    63000  160  45.6         1.3         False   \n",
            "15685  2008   1795    63000  160  45.6         1.3         False   \n",
            "17607  2017  11495     5000  145  44.1         1.6          True   \n",
            "17608  2017  11495     5000  145  44.1         1.6          True   \n",
            "\n",
            "       model_ C-MAX  model_ EcoSport  model_ Edge  ...  \\\n",
            "25            False            False        False  ...   \n",
            "27            False            False        False  ...   \n",
            "28            False            False        False  ...   \n",
            "113           False            False        False  ...   \n",
            "159           False            False        False  ...   \n",
            "...             ...              ...          ...  ...   \n",
            "15127         False             True        False  ...   \n",
            "15684         False            False        False  ...   \n",
            "15685         False            False        False  ...   \n",
            "17607         False            False        False  ...   \n",
            "17608         False            False        False  ...   \n",
            "\n",
            "       model_ Transit Tourneo  model_Focus  transmission_Automatic  \\\n",
            "25                      False        False                   False   \n",
            "27                      False        False                   False   \n",
            "28                      False        False                   False   \n",
            "113                     False        False                   False   \n",
            "159                     False        False                   False   \n",
            "...                       ...          ...                     ...   \n",
            "15127                   False        False                    True   \n",
            "15684                   False        False                   False   \n",
            "15685                   False        False                   False   \n",
            "17607                   False        False                    True   \n",
            "17608                   False        False                    True   \n",
            "\n",
            "       transmission_Manual  transmission_Semi-Auto  fuelType_Diesel  \\\n",
            "25                    True                   False            False   \n",
            "27                    True                   False            False   \n",
            "28                    True                   False            False   \n",
            "113                   True                   False             True   \n",
            "159                   True                   False             True   \n",
            "...                    ...                     ...              ...   \n",
            "15127                False                   False            False   \n",
            "15684                 True                   False            False   \n",
            "15685                 True                   False            False   \n",
            "17607                False                   False            False   \n",
            "17608                False                   False            False   \n",
            "\n",
            "       fuelType_Electric  fuelType_Hybrid  fuelType_Other  fuelType_Petrol  \n",
            "25                 False            False           False             True  \n",
            "27                 False            False           False             True  \n",
            "28                 False            False           False             True  \n",
            "113                False            False           False            False  \n",
            "159                False            False           False            False  \n",
            "...                  ...              ...             ...              ...  \n",
            "15127              False            False           False             True  \n",
            "15684              False            False           False             True  \n",
            "15685              False            False           False             True  \n",
            "17607              False            False           False             True  \n",
            "17608              False            False           False             True  \n",
            "\n",
            "[302 rows x 38 columns]\n",
            "Missing values:  year                            0\n",
            "price                           0\n",
            "mileage                         0\n",
            "tax                             0\n",
            "mpg                             0\n",
            "engineSize                      0\n",
            "model_ B-MAX                    0\n",
            "model_ C-MAX                    0\n",
            "model_ EcoSport                 0\n",
            "model_ Edge                     0\n",
            "model_ Escort                   0\n",
            "model_ Fiesta                   0\n",
            "model_ Focus                    0\n",
            "model_ Fusion                   0\n",
            "model_ Galaxy                   0\n",
            "model_ Grand C-MAX              0\n",
            "model_ Grand Tourneo Connect    0\n",
            "model_ KA                       0\n",
            "model_ Ka+                      0\n",
            "model_ Kuga                     0\n",
            "model_ Mondeo                   0\n",
            "model_ Mustang                  0\n",
            "model_ Puma                     0\n",
            "model_ Ranger                   0\n",
            "model_ S-MAX                    0\n",
            "model_ Streetka                 0\n",
            "model_ Tourneo Connect          0\n",
            "model_ Tourneo Custom           0\n",
            "model_ Transit Tourneo          0\n",
            "model_Focus                     0\n",
            "transmission_Automatic          0\n",
            "transmission_Manual             0\n",
            "transmission_Semi-Auto          0\n",
            "fuelType_Diesel                 0\n",
            "fuelType_Electric               0\n",
            "fuelType_Hybrid                 0\n",
            "fuelType_Other                  0\n",
            "fuelType_Petrol                 0\n",
            "dtype: int64\n"
          ]
        }
      ]
    },
    {
      "cell_type": "markdown",
      "source": [
        "<hr/>\n",
        "As you can see there is no missing values. But there are 302 duplicated entries.\n",
        "<br/>\n",
        "I'll drop duplicated entries while keeping one of them\n",
        "\n"
      ],
      "metadata": {
        "id": "obqdOj79zRPQ"
      }
    },
    {
      "cell_type": "code",
      "source": [
        "dataframe = dataframe.drop_duplicates(keep='first')\n",
        "\n",
        "print(\"Dropping duplicated entries...\")\n",
        "\n",
        "# Double checking\n",
        "duplicated_entries = dataframe[dataframe.duplicated(keep=False)]\n",
        "print('The number of duplicated entries: ', len(duplicated_entries))\n",
        "\n",
        "print(\"Updated dataframe:\")\n",
        "print(dataframe)"
      ],
      "metadata": {
        "colab": {
          "base_uri": "https://localhost:8080/"
        },
        "id": "-gXrvjVByneh",
        "outputId": "96dbad5a-c7fd-4e0b-b20c-8ae896446271"
      },
      "execution_count": 49,
      "outputs": [
        {
          "output_type": "stream",
          "name": "stdout",
          "text": [
            "Dropping duplicated entries...\n",
            "The number of duplicated entries:  0\n",
            "Updated dataframe:\n",
            "       year  price  mileage  tax   mpg  engineSize  model_ B-MAX  \\\n",
            "0      2017  12000    15944  150  57.7         1.0         False   \n",
            "1      2018  14000     9083  150  57.7         1.0         False   \n",
            "2      2017  13000    12456  150  57.7         1.0         False   \n",
            "3      2019  17500    10460  145  40.3         1.5         False   \n",
            "4      2019  16500     1482  145  48.7         1.0         False   \n",
            "...     ...    ...      ...  ...   ...         ...           ...   \n",
            "17961  2017   8999    16700  150  47.1         1.4          True   \n",
            "17962  2014   7499    40700   30  57.7         1.0          True   \n",
            "17963  2015   9999     7010   20  67.3         1.6         False   \n",
            "17964  2018   8299     5007  145  57.7         1.2         False   \n",
            "17965  2015   8299     5007   22  57.7         1.0         False   \n",
            "\n",
            "       model_ C-MAX  model_ EcoSport  model_ Edge  ...  \\\n",
            "0             False            False        False  ...   \n",
            "1             False            False        False  ...   \n",
            "2             False            False        False  ...   \n",
            "3             False            False        False  ...   \n",
            "4             False            False        False  ...   \n",
            "...             ...              ...          ...  ...   \n",
            "17961         False            False        False  ...   \n",
            "17962         False            False        False  ...   \n",
            "17963         False            False        False  ...   \n",
            "17964         False            False        False  ...   \n",
            "17965         False            False        False  ...   \n",
            "\n",
            "       model_ Transit Tourneo  model_Focus  transmission_Automatic  \\\n",
            "0                       False        False                    True   \n",
            "1                       False        False                   False   \n",
            "2                       False        False                   False   \n",
            "3                       False        False                   False   \n",
            "4                       False        False                    True   \n",
            "...                       ...          ...                     ...   \n",
            "17961                   False        False                   False   \n",
            "17962                   False        False                   False   \n",
            "17963                   False        False                   False   \n",
            "17964                   False        False                   False   \n",
            "17965                   False         True                   False   \n",
            "\n",
            "       transmission_Manual  transmission_Semi-Auto  fuelType_Diesel  \\\n",
            "0                    False                   False            False   \n",
            "1                     True                   False            False   \n",
            "2                     True                   False            False   \n",
            "3                     True                   False            False   \n",
            "4                    False                   False            False   \n",
            "...                    ...                     ...              ...   \n",
            "17961                 True                   False            False   \n",
            "17962                 True                   False            False   \n",
            "17963                 True                   False             True   \n",
            "17964                 True                   False            False   \n",
            "17965                 True                   False            False   \n",
            "\n",
            "       fuelType_Electric  fuelType_Hybrid  fuelType_Other  fuelType_Petrol  \n",
            "0                  False            False           False             True  \n",
            "1                  False            False           False             True  \n",
            "2                  False            False           False             True  \n",
            "3                  False            False           False             True  \n",
            "4                  False            False           False             True  \n",
            "...                  ...              ...             ...              ...  \n",
            "17961              False            False           False             True  \n",
            "17962              False            False           False             True  \n",
            "17963              False            False           False            False  \n",
            "17964              False            False           False             True  \n",
            "17965              False            False           False             True  \n",
            "\n",
            "[17812 rows x 38 columns]\n"
          ]
        }
      ]
    },
    {
      "cell_type": "markdown",
      "source": [
        "<hr/>\n",
        "Exploratory Data Analysis: The number of sales for each fuel type"
      ],
      "metadata": {
        "id": "CvLiH4GT0Xc2"
      }
    },
    {
      "cell_type": "code",
      "source": [
        "# Counting the values by 'fuelType' column\n",
        "sales_per_fuel_type = dataframe.filter(like='fuelType').sum()\n",
        "\n",
        "# Plotting\n",
        "sales_per_fuel_type.plot(kind='bar', color='#003977')\n",
        "plt.title('Number of Sales per Fuel Type')\n",
        "plt.xlabel('Fuel Type')\n",
        "plt.ylabel('Number of Sales')\n",
        "plt.xticks(rotation=45)\n",
        "plt.show()\n",
        "\n",
        "print(\"\\nNumber of sales per Fuel Type:\")\n",
        "print(sales_per_fuel_type)"
      ],
      "metadata": {
        "colab": {
          "base_uri": "https://localhost:8080/",
          "height": 693
        },
        "id": "v0CbVfvh0d2Q",
        "outputId": "9c6486cd-1b89-41d8-d478-268bb5033663"
      },
      "execution_count": 53,
      "outputs": [
        {
          "output_type": "display_data",
          "data": {
            "text/plain": [
              "<Figure size 640x480 with 1 Axes>"
            ],
            "image/png": "[encoded data removed]"
          },
          "metadata": {}
        },
        {
          "output_type": "stream",
          "name": "stdout",
          "text": [
            "\n",
            "Number of sales per Fuel Type:\n",
            "fuelType_Diesel       5706\n",
            "fuelType_Electric        2\n",
            "fuelType_Hybrid         22\n",
            "fuelType_Other           1\n",
            "fuelType_Petrol      12081\n",
            "dtype: int64\n"
          ]
        }
      ]
    },
    {
      "cell_type": "markdown",
      "source": [
        "<hr/>\n",
        "Exploratory Data Analysis: Identifying which transmission type has more price outliers"
      ],
      "metadata": {
        "id": "3WUtaokV11eF"
      }
    },
    {
      "cell_type": "code",
      "source": [
        "import seaborn as sns\n",
        "import matplotlib.pyplot as plt\n",
        "\n",
        "# Plotting\n",
        "plt.figure(figsize=(8, 6))\n",
        "sns.boxplot(x='transmission_Automatic', y='price', data=dataframe, palette='Set1')\n",
        "sns.boxplot(x='transmission_Manual', y='price', data=dataframe, palette='Set2')\n",
        "sns.boxplot(x='transmission_Semi-Auto', y='price', data=dataframe, palette='Set3')\n",
        "plt.title('Price Outliers by Transmission Type')\n",
        "plt.xlabel('Transmission Type')\n",
        "plt.ylabel('Price')\n",
        "plt.xticks([0, 1, 2], ['Automatic', 'Manual', 'Semi-Auto'])\n",
        "plt.legend(title='Transmission Type', loc='upper right', labels=['Automatic', 'Manual', 'Semi-Auto'])\n",
        "plt.show()\n"
      ],
      "metadata": {
        "colab": {
          "base_uri": "https://localhost:8080/",
          "height": 564
        },
        "id": "GfoPZUjy190V",
        "outputId": "f5ef1b96-d5a1-450b-a6db-17f4907dff2e"
      },
      "execution_count": 64,
      "outputs": [
        {
          "output_type": "display_data",
          "data": {
            "text/plain": [
              "<Figure size 800x600 with 1 Axes>"
            ],
            "image/png": "[encoded data removed]"
          },
          "metadata": {}
        }
      ]
    },
    {
      "cell_type": "markdown",
      "source": [
        "<hr/>\n",
        "To find best-performing model, we will try <b>Linear</b>, <b>Polynomial</b> and <b>Ridge</b> regression models.\n",
        "<br/>\n",
        "Then evaluate each of their's performance.\n",
        "<br/>\n",
        "First I'll define the function which evaulates model by receiving the model, input and output data.\n",
        "<br/>"
      ],
      "metadata": {
        "id": "hsO-QAUL5KRH"
      }
    },
    {
      "cell_type": "code",
      "source": [
        "# Evaluates models\n",
        "def evaluate_model(model, X_test, y_test):\n",
        "    y_pred = model.predict(X_test)\n",
        "    mse = mean_squared_error(y_test, y_pred)\n",
        "    r2 = r2_score(y_test, y_pred)\n",
        "    return mse, r2\n",
        "\n",
        "# Preparing input and output\n",
        "X = dataframe.drop('price', axis=1)\n",
        "y = dataframe['price']"
      ],
      "metadata": {
        "id": "glqVMnax5eAr"
      },
      "execution_count": 65,
      "outputs": []
    },
    {
      "cell_type": "markdown",
      "source": [
        "<hr/>\n",
        "Linear regression"
      ],
      "metadata": {
        "id": "Vll0GCYI6Bti"
      }
    },
    {
      "cell_type": "code",
      "source": [
        "# Splitting data into training and testing sets\n",
        "X_train, X_test, y_train, y_test = train_test_split(X, y, test_size=0.2, random_state=42)\n",
        "\n",
        "# Linear regressor model\n",
        "linear_reg = LinearRegression()\n",
        "\n",
        "# Training linear regressor\n",
        "linear_reg.fit(X_train, y_train)\n",
        "\n",
        "# Evaluating\n",
        "linear_mse, linear_r2 = evaluate_model(linear_reg, X_test, y_test)\n",
        "print(\"Linear Regression Result\")\n",
        "print(\"Mean Squared Error:\", linear_mse)\n",
        "print(\"R-squared Score:\", linear_r2)"
      ],
      "metadata": {
        "colab": {
          "base_uri": "https://localhost:8080/"
        },
        "id": "sVQLX_Ou6C7e",
        "outputId": "5a6b6786-f6d9-447b-8e7c-639adb5c4ce3"
      },
      "execution_count": 67,
      "outputs": [
        {
          "output_type": "stream",
          "name": "stdout",
          "text": [
            "Linear Regression Result\n",
            "Mean Squared Error: 4060994.7939468143\n",
            "R-squared Score: 0.8188919779971316\n"
          ]
        }
      ]
    },
    {
      "cell_type": "markdown",
      "source": [
        "<hr/>\n",
        "Ridge regression"
      ],
      "metadata": {
        "id": "94M7RkZt9yRD"
      }
    },
    {
      "cell_type": "code",
      "source": [
        "# Splitting data into training and testing sets\n",
        "X_train, X_test, y_train, y_test = train_test_split(X, y, test_size=0.2, random_state=42)\n",
        "\n",
        "# Ridge regressor model\n",
        "ridge_reg = Ridge(alpha=1.0)\n",
        "\n",
        "# Training ridge regressor\n",
        "ridge_reg.fit(X_train, y_train)\n",
        "\n",
        "# Evaluating\n",
        "ridge_mse, ridge_r2 = evaluate_model(ridge_reg, X_test, y_test)\n",
        "print(\"\\nRidge Regression Result\")\n",
        "print(\"Mean Squared Error:\", ridge_mse)\n",
        "print(\"R-squared Score:\", ridge_r2)"
      ],
      "metadata": {
        "colab": {
          "base_uri": "https://localhost:8080/"
        },
        "id": "GOaD9IXL9y1R",
        "outputId": "d55701e5-2c8a-49d4-98d7-586a161156db"
      },
      "execution_count": 70,
      "outputs": [
        {
          "output_type": "stream",
          "name": "stdout",
          "text": [
            "\n",
            "Ridge Regression Result\n",
            "Mean Squared Error: 4053968.2233916535\n",
            "R-squared Score: 0.8192053416824547\n"
          ]
        }
      ]
    },
    {
      "cell_type": "markdown",
      "source": [
        "<hr/>\n",
        "Polynomial regression"
      ],
      "metadata": {
        "id": "mbxBnFCo-FCs"
      }
    },
    {
      "cell_type": "code",
      "source": [
        "# Polynominal features\n",
        "poly = PolynomialFeatures(degree=2)\n",
        "X_poly = poly.fit_transform(X_train)\n",
        "\n",
        "# Regressor model\n",
        "poly_reg = LinearRegression()\n",
        "\n",
        "# Training polynominal regressor\n",
        "poly_reg.fit(X_poly, y_train)\n",
        "\n",
        "# Evaluating\n",
        "X_test_poly = poly.transform(X_test)\n",
        "poly_mse, poly_r2 = evaluate_model(poly_reg, X_test_poly, y_test)\n",
        "\n",
        "print(\"\\nPolynomial Regression Result\")\n",
        "print(\"Mean Squared Error:\", poly_mse)\n",
        "print(\"R-squared Score:\", poly_r2)"
      ],
      "metadata": {
        "colab": {
          "base_uri": "https://localhost:8080/"
        },
        "id": "Y8Vl6rjh-FnL",
        "outputId": "d658f4e5-7e30-4085-f4a0-6bdc1baa6689"
      },
      "execution_count": 73,
      "outputs": [
        {
          "output_type": "stream",
          "name": "stdout",
          "text": [
            "\n",
            "Polynomial Regression Result\n",
            "Mean Squared Error: 59932634.12387559\n",
            "R-squared Score: -1.672813281064963\n"
          ]
        }
      ]
    },
    {
      "cell_type": "markdown",
      "source": [
        "<hr/>\n",
        "To summarize, let's print all models' results"
      ],
      "metadata": {
        "id": "zCTLHwq6-pEX"
      }
    },
    {
      "cell_type": "code",
      "source": [
        "print(\"Linear Regression Result\")\n",
        "print(\"Mean Squared Error:\", linear_mse)\n",
        "print(\"R-squared Score:\", linear_r2)\n",
        "\n",
        "print(\"\\nRidge Regression Result\")\n",
        "print(\"Mean Squared Error:\", ridge_mse)\n",
        "print(\"R-squared Score:\", ridge_r2)\n",
        "\n",
        "print(\"\\nPolynomial Regression Result\")\n",
        "print(\"Mean Squared Error:\", poly_mse)\n",
        "print(\"R-squared Score:\", poly_r2)"
      ],
      "metadata": {
        "colab": {
          "base_uri": "https://localhost:8080/"
        },
        "id": "gq4JlXGz-Nn8",
        "outputId": "03750f60-64e4-4f51-c181-3273ab77845b"
      },
      "execution_count": 74,
      "outputs": [
        {
          "output_type": "stream",
          "name": "stdout",
          "text": [
            "Linear Regression Result\n",
            "Mean Squared Error: 4060994.7939468143\n",
            "R-squared Score: 0.8188919779971316\n",
            "\n",
            "Ridge Regression Result\n",
            "Mean Squared Error: 4053968.2233916535\n",
            "R-squared Score: 0.8192053416824547\n",
            "\n",
            "Polynomial Regression Result\n",
            "Mean Squared Error: 59932634.12387559\n",
            "R-squared Score: -1.672813281064963\n"
          ]
        }
      ]
    },
    {
      "cell_type": "markdown",
      "source": [
        "<hr/>\n",
        "Now let's perform Grid Search on the Ridge regression model to identify the optimum hyperparameter of the model for the best performance"
      ],
      "metadata": {
        "id": "z-CCxbbh-7EA"
      }
    },
    {
      "cell_type": "code",
      "source": [
        "# Possible parameters for Ridge regressor\n",
        "parameters = {'alpha': [0.001, 0.01, 0.1, 1, 10, 100]}\n",
        "\n",
        "# Performing Grid Search CV to our Ridge model\n",
        "grid_search = GridSearchCV(ridge_reg, parameters, cv=5, scoring='neg_mean_squared_error')\n",
        "\n",
        "# Training updated model\n",
        "grid_search.fit(X_train, y_train)\n",
        "\n",
        "# Getting the best hyperparameters\n",
        "best_alpha = grid_search.best_params_['alpha']\n",
        "print(\"Best alpha:\", best_alpha)\n",
        "\n",
        "# Evaluate the model with the best hyperparameters\n",
        "best_model = grid_search.best_estimator_\n",
        "y_pred = best_model.predict(X_test)\n",
        "\n",
        "best_ridge_mse = mean_squared_error(y_test, y_pred)\n",
        "best_ridge_r2 = r2 = r2_score(y_test, y_pred)\n",
        "\n",
        "print(\"\\nRidge Regression Result (with the best alpha)\")\n",
        "print(\"Mean Squared Error:\", best_ridge_mse)\n",
        "print(\"R-squared Score:\", best_ridge_r2)"
      ],
      "metadata": {
        "colab": {
          "base_uri": "https://localhost:8080/"
        },
        "id": "EW1OPUj1_EDE",
        "outputId": "f4526501-4217-4635-b4f4-906c029215e3"
      },
      "execution_count": 77,
      "outputs": [
        {
          "output_type": "stream",
          "name": "stdout",
          "text": [
            "Best alpha: 0.001\n",
            "\n",
            "Ridge Regression Result (with the best alpha)\n",
            "Mean Squared Error: 4060982.5125713516\n",
            "R-squared Score: 0.8188925257091407\n"
          ]
        }
      ]
    }
  ]
}